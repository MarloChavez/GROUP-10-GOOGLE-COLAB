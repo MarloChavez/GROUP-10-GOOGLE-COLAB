{
  "nbformat": 4,
  "nbformat_minor": 0,
  "metadata": {
    "colab": {
      "provenance": []
    },
    "kernelspec": {
      "name": "python3",
      "display_name": "Python 3"
    },
    "language_info": {
      "name": "python"
    }
  },
  "cells": [
    {
      "cell_type": "markdown",
      "source": [
        "# **Conditional Statement**"
      ],
      "metadata": {
        "id": "Bui5zv86AsP4"
      }
    },
    {
      "cell_type": "markdown",
      "source": [
        "Conditional Statements:\n",
        "* If Statement\n",
        "* If else\n",
        "* Nested If"
      ],
      "metadata": {
        "id": "u7B0qOf8Aw5R"
      }
    },
    {
      "cell_type": "code",
      "source": [
        "# If Statement\n",
        "# if condition:\n",
        "  #block of code\n",
        "\n",
        "emp = 101\n",
        "if emp > 100:\n",
        "  print(\"emp belongs to sales dept\")"
      ],
      "metadata": {
        "colab": {
          "base_uri": "https://localhost:8080/"
        },
        "id": "CdmmrvgYAy5X",
        "outputId": "d93a6d6a-c739-4c9a-d2ab-0a75abffeb63"
      },
      "execution_count": 1,
      "outputs": [
        {
          "output_type": "stream",
          "name": "stdout",
          "text": [
            "emp belongs to sales dept\n"
          ]
        }
      ]
    },
    {
      "cell_type": "code",
      "source": [
        "employee =30000\n",
        "if employee < 40000:\n",
        "  print(\"employee belongs to grade B\")"
      ],
      "metadata": {
        "colab": {
          "base_uri": "https://localhost:8080/"
        },
        "id": "kO_btg9gA2TX",
        "outputId": "72b1194a-d70e-4454-c195-9c458e9735bf"
      },
      "execution_count": 2,
      "outputs": [
        {
          "output_type": "stream",
          "name": "stdout",
          "text": [
            "employee belongs to grade B\n"
          ]
        }
      ]
    },
    {
      "cell_type": "code",
      "source": [
        "#Emp belongs to id 101 takes leave on Monday\n",
        "Emp = 101\n",
        "if Emp == 101:\n",
        "  print(\"employee belongs to id 101 takes leave on Monday\")"
      ],
      "metadata": {
        "colab": {
          "base_uri": "https://localhost:8080/"
        },
        "id": "kAFSbZCoA2b-",
        "outputId": "97099cb1-5d2e-4f44-f438-c3eaf29e1729"
      },
      "execution_count": 3,
      "outputs": [
        {
          "output_type": "stream",
          "name": "stdout",
          "text": [
            "employee belongs to id 101 takes leave on Monday\n"
          ]
        }
      ]
    },
    {
      "cell_type": "code",
      "source": [
        "Emp = 101\n",
        "if Emp <101:\n",
        "  print(\"employee belongs to id 101 takes leave on Monday\")"
      ],
      "metadata": {
        "id": "qGZMo0LfA2km"
      },
      "execution_count": 7,
      "outputs": []
    },
    {
      "cell_type": "code",
      "source": [
        "# if else statement\n",
        "# if <expression>:\n",
        "  #<condition>\n",
        "#else:\n",
        "  #<statement>\n",
        "\n",
        "branch = \"sales\"\n",
        "if branch == \"HR\":\n",
        "  print(\"Employee is from different dept\")\n",
        "else:\n",
        "  print(\"Employee belongs to same dept\")"
      ],
      "metadata": {
        "colab": {
          "base_uri": "https://localhost:8080/"
        },
        "id": "P0C0hmwtA2s5",
        "outputId": "27c0e49d-2242-49c9-f9c8-fb1926244a77"
      },
      "execution_count": 8,
      "outputs": [
        {
          "output_type": "stream",
          "name": "stdout",
          "text": [
            "Employee belongs to same dept\n"
          ]
        }
      ]
    },
    {
      "cell_type": "code",
      "source": [
        "# age = 30 then consider as senior or consider as a fresher\n",
        "age = 30\n",
        "\n",
        "if age == 30:\n",
        "  print(\"Senior\")\n",
        "else:\n",
        "  print(\"Fresher\")"
      ],
      "metadata": {
        "colab": {
          "base_uri": "https://localhost:8080/"
        },
        "id": "zYXgmsXBA21m",
        "outputId": "b6a45db2-c9bf-45c7-838a-1ae61084e839"
      },
      "execution_count": 9,
      "outputs": [
        {
          "output_type": "stream",
          "name": "stdout",
          "text": [
            "Senior\n"
          ]
        }
      ]
    },
    {
      "cell_type": "code",
      "source": [
        "# if-elif\n",
        "color = \"White\"\n",
        "if color == \"Red\":\n",
        "  print(\"color is Red\")\n",
        "elif color == \"Blue\":\n",
        "  print(\"color is Blue\")\n",
        "elif color == \"Black\":\n",
        "  print(\"color is Black\")\n",
        "else:\n",
        "  print(\"color is not present\")"
      ],
      "metadata": {
        "colab": {
          "base_uri": "https://localhost:8080/"
        },
        "id": "KHI5_wUNA29z",
        "outputId": "1a41461f-2afa-4beb-8560-b12430bf59fb"
      },
      "execution_count": 10,
      "outputs": [
        {
          "output_type": "stream",
          "name": "stdout",
          "text": [
            "color is not present\n"
          ]
        }
      ]
    },
    {
      "cell_type": "code",
      "source": [
        "# for loop\n",
        "\n",
        "names = [\"John\",\"Maria\",\"Daniel\"]\n",
        "for name in names:\n",
        "  print(name)\n",
        "  if name == \"Maria\":\n",
        "    break"
      ],
      "metadata": {
        "colab": {
          "base_uri": "https://localhost:8080/"
        },
        "id": "7GvQ6wMsA3G_",
        "outputId": "c3cc47e9-a46a-42ec-9e25-9d43e4bcad29"
      },
      "execution_count": 11,
      "outputs": [
        {
          "output_type": "stream",
          "name": "stdout",
          "text": [
            "John\n",
            "Maria\n"
          ]
        }
      ]
    },
    {
      "cell_type": "code",
      "source": [
        "names = [\"John\",\"Maria\",\"Daniel\"]\n",
        "for name in names:\n",
        "  if name == \"Maria\":\n",
        "    continue\n",
        "  print(names)"
      ],
      "metadata": {
        "colab": {
          "base_uri": "https://localhost:8080/"
        },
        "id": "6f5siCe9A3Qh",
        "outputId": "495237fe-dc83-41ea-9eac-28b8e1757e79"
      },
      "execution_count": 12,
      "outputs": [
        {
          "output_type": "stream",
          "name": "stdout",
          "text": [
            "['John', 'Maria', 'Daniel']\n",
            "['John', 'Maria', 'Daniel']\n"
          ]
        }
      ]
    }
  ]
}