{
  "nbformat": 4,
  "nbformat_minor": 0,
  "metadata": {
    "colab": {
      "provenance": []
    },
    "kernelspec": {
      "name": "python3",
      "display_name": "Python 3"
    },
    "language_info": {
      "name": "python"
    }
  },
  "cells": [
    {
      "cell_type": "code",
      "execution_count": null,
      "metadata": {
        "id": "LSg4-PNCvsh3"
      },
      "outputs": [],
      "source": []
    },
    {
      "cell_type": "markdown",
      "source": [
        "# Lists, Tuples, Sets and Dictionaries\n"
      ],
      "metadata": {
        "id": "L0itPlhpwSPO"
      }
    },
    {
      "cell_type": "markdown",
      "source": [
        "## 1) List"
      ],
      "metadata": {
        "id": "g5o8Zr42weUz"
      }
    },
    {
      "cell_type": "code",
      "source": [
        "#List - ordered sequence of elements, always uses [] to represent the list. Each item is seperated by ,.\n",
        "\n",
        "food = [\"pizza\",\"burger\",\"rice\", \"noodles\"]\n",
        "print(food)"
      ],
      "metadata": {
        "colab": {
          "base_uri": "https://localhost:8080/"
        },
        "id": "SMQ4Ok16wq0X",
        "outputId": "5da9c172-edf7-4baf-e5db-0c8024d76c74"
      },
      "execution_count": null,
      "outputs": [
        {
          "output_type": "stream",
          "name": "stdout",
          "text": [
            "['pizza', 'burger', 'rice', 'noodles']\n"
          ]
        }
      ]
    },
    {
      "cell_type": "code",
      "source": [
        "print(food[0])"
      ],
      "metadata": {
        "colab": {
          "base_uri": "https://localhost:8080/"
        },
        "id": "5D0CgnV5w98j",
        "outputId": "1b522809-5e56-423c-a1a5-bfa8ce1e812a"
      },
      "execution_count": null,
      "outputs": [
        {
          "output_type": "stream",
          "name": "stdout",
          "text": [
            "pizza\n"
          ]
        }
      ]
    },
    {
      "cell_type": "code",
      "source": [
        "# to add element in list\n",
        "food.append(\"cake\")\n",
        "print(food)"
      ],
      "metadata": {
        "colab": {
          "base_uri": "https://localhost:8080/"
        },
        "id": "BdZ3mRAsxC6d",
        "outputId": "27813a61-6eca-478e-b5b5-612e68731146"
      },
      "execution_count": null,
      "outputs": [
        {
          "output_type": "stream",
          "name": "stdout",
          "text": [
            "['pizza', 'burger', 'rice', 'noodles', 'cake']\n"
          ]
        }
      ]
    },
    {
      "cell_type": "code",
      "source": [
        "food.append(\"sandwhich\")\n",
        "print(food)"
      ],
      "metadata": {
        "colab": {
          "base_uri": "https://localhost:8080/"
        },
        "id": "qG2KHk8oxHvn",
        "outputId": "a7e9cabd-b4c8-4aaa-912c-c6eb0522564d"
      },
      "execution_count": null,
      "outputs": [
        {
          "output_type": "stream",
          "name": "stdout",
          "text": [
            "['pizza', 'burger', 'rice', 'noodles', 'cake', 'sandwhich']\n"
          ]
        }
      ]
    },
    {
      "cell_type": "code",
      "source": [
        "food.extend([\"sandwhich\",\"pasta\"])\n",
        "print(food)"
      ],
      "metadata": {
        "colab": {
          "base_uri": "https://localhost:8080/"
        },
        "id": "FAYxQcEsxJ1k",
        "outputId": "e2224635-d263-441e-a07f-40c2db11a05e"
      },
      "execution_count": null,
      "outputs": [
        {
          "output_type": "stream",
          "name": "stdout",
          "text": [
            "['pizza', 'burger', 'rice', 'noodles', 'cake', 'sandwhich', 'sandwhich', 'pasta']\n"
          ]
        }
      ]
    },
    {
      "cell_type": "code",
      "source": [
        "food.extend([\"sandwhich\",\"pasta\"])\n",
        "food"
      ],
      "metadata": {
        "colab": {
          "base_uri": "https://localhost:8080/"
        },
        "id": "Sn5GOV7TxQpP",
        "outputId": "4d307f19-98ce-4862-f33a-45b0a40400c2"
      },
      "execution_count": null,
      "outputs": [
        {
          "output_type": "execute_result",
          "data": {
            "text/plain": [
              "['pizza',\n",
              " 'burger',\n",
              " 'rice',\n",
              " 'noodles',\n",
              " 'cake',\n",
              " 'sandwhich',\n",
              " 'sandwhich',\n",
              " 'pasta',\n",
              " 'sandwhich',\n",
              " 'pasta']"
            ]
          },
          "metadata": {},
          "execution_count": 16
        }
      ]
    },
    {
      "cell_type": "code",
      "source": [
        "print(food*2)"
      ],
      "metadata": {
        "colab": {
          "base_uri": "https://localhost:8080/"
        },
        "id": "z7GpClJHxS5q",
        "outputId": "7472ab8f-a641-47f0-cb08-bcc995e502a0"
      },
      "execution_count": null,
      "outputs": [
        {
          "output_type": "stream",
          "name": "stdout",
          "text": [
            "['pizza', 'burger', 'rice', 'noodles', 'cake', 'sandwhich', 'sandwhich', 'pasta', 'sandwhich', 'pasta', 'pizza', 'burger', 'rice', 'noodles', 'cake', 'sandwhich', 'sandwhich', 'pasta', 'sandwhich', 'pasta']\n"
          ]
        }
      ]
    },
    {
      "cell_type": "code",
      "source": [
        "food + [\"coffee\",\"tea\"]\n",
        "food"
      ],
      "metadata": {
        "colab": {
          "base_uri": "https://localhost:8080/"
        },
        "id": "wBdxwA2zxVVy",
        "outputId": "928131f1-63a5-474b-c329-893035d611e3"
      },
      "execution_count": null,
      "outputs": [
        {
          "output_type": "execute_result",
          "data": {
            "text/plain": [
              "['pizza',\n",
              " 'burger',\n",
              " 'rice',\n",
              " 'noodles',\n",
              " 'cake',\n",
              " 'sandwhich',\n",
              " 'sandwhich',\n",
              " 'pasta',\n",
              " 'sandwhich',\n",
              " 'pasta']"
            ]
          },
          "metadata": {},
          "execution_count": 18
        }
      ]
    },
    {
      "cell_type": "code",
      "source": [
        "food = food + [\"coffee\",\"tea\"]\n",
        "food"
      ],
      "metadata": {
        "colab": {
          "base_uri": "https://localhost:8080/"
        },
        "id": "yZ9q4hz8xXz9",
        "outputId": "3f613179-4ff6-4bde-ba05-7af45e24daa7"
      },
      "execution_count": null,
      "outputs": [
        {
          "output_type": "execute_result",
          "data": {
            "text/plain": [
              "['pizza',\n",
              " 'burger',\n",
              " 'rice',\n",
              " 'noodles',\n",
              " 'cake',\n",
              " 'sandwhich',\n",
              " 'sandwhich',\n",
              " 'pasta',\n",
              " 'sandwhich',\n",
              " 'pasta',\n",
              " 'coffee',\n",
              " 'tea']"
            ]
          },
          "metadata": {},
          "execution_count": 19
        }
      ]
    },
    {
      "cell_type": "code",
      "source": [
        "food[1:3]"
      ],
      "metadata": {
        "colab": {
          "base_uri": "https://localhost:8080/"
        },
        "id": "a12u9ue5xak1",
        "outputId": "7156fd53-f1a3-44d1-ba44-32a225a190d2"
      },
      "execution_count": null,
      "outputs": [
        {
          "output_type": "execute_result",
          "data": {
            "text/plain": [
              "['burger', 'rice']"
            ]
          },
          "metadata": {},
          "execution_count": 20
        }
      ]
    },
    {
      "cell_type": "code",
      "source": [
        "food[3]= 'Sweet'\n",
        "food"
      ],
      "metadata": {
        "colab": {
          "base_uri": "https://localhost:8080/"
        },
        "id": "DJwQogMGxci5",
        "outputId": "8db9f7bf-cc56-41a0-8baf-ee83245440e8"
      },
      "execution_count": null,
      "outputs": [
        {
          "output_type": "execute_result",
          "data": {
            "text/plain": [
              "['pizza',\n",
              " 'burger',\n",
              " 'rice',\n",
              " 'Sweet',\n",
              " 'cake',\n",
              " 'sandwhich',\n",
              " 'sandwhich',\n",
              " 'pasta',\n",
              " 'sandwhich',\n",
              " 'pasta',\n",
              " 'coffee',\n",
              " 'tea']"
            ]
          },
          "metadata": {},
          "execution_count": 21
        }
      ]
    },
    {
      "cell_type": "code",
      "source": [
        "food.index('cake')"
      ],
      "metadata": {
        "colab": {
          "base_uri": "https://localhost:8080/"
        },
        "id": "hr4q3fCKxeVo",
        "outputId": "c193ef76-0739-4ea0-b7e4-d7db0aec71ef"
      },
      "execution_count": null,
      "outputs": [
        {
          "output_type": "execute_result",
          "data": {
            "text/plain": [
              "4"
            ]
          },
          "metadata": {},
          "execution_count": 22
        }
      ]
    },
    {
      "cell_type": "code",
      "source": [
        "food.insert(3,'Paratha')\n",
        "food"
      ],
      "metadata": {
        "colab": {
          "base_uri": "https://localhost:8080/"
        },
        "id": "o9ZLBwsdxhSl",
        "outputId": "19e0f240-dd41-4cec-e485-7f4add90d3ec"
      },
      "execution_count": null,
      "outputs": [
        {
          "output_type": "execute_result",
          "data": {
            "text/plain": [
              "['pizza',\n",
              " 'burger',\n",
              " 'rice',\n",
              " 'Paratha',\n",
              " 'Sweet',\n",
              " 'cake',\n",
              " 'sandwhich',\n",
              " 'sandwhich',\n",
              " 'pasta',\n",
              " 'sandwhich',\n",
              " 'pasta',\n",
              " 'coffee',\n",
              " 'tea']"
            ]
          },
          "metadata": {},
          "execution_count": 23
        }
      ]
    },
    {
      "cell_type": "code",
      "source": [
        "drinks = food.remove('tea')\n",
        "print(drinks)"
      ],
      "metadata": {
        "colab": {
          "base_uri": "https://localhost:8080/",
          "height": 193
        },
        "id": "c1yj5XZDz35v",
        "outputId": "21594d9d-67cb-4907-f802-53074b20ab3e"
      },
      "execution_count": 104,
      "outputs": [
        {
          "output_type": "error",
          "ename": "ValueError",
          "evalue": "ignored",
          "traceback": [
            "\u001b[0;31m---------------------------------------------------------------------------\u001b[0m",
            "\u001b[0;31mValueError\u001b[0m                                Traceback (most recent call last)",
            "\u001b[0;32m<ipython-input-104-4856a831db2a>\u001b[0m in \u001b[0;36m<cell line: 1>\u001b[0;34m()\u001b[0m\n\u001b[0;32m----> 1\u001b[0;31m \u001b[0mdrinks\u001b[0m \u001b[0;34m=\u001b[0m \u001b[0mfood\u001b[0m\u001b[0;34m.\u001b[0m\u001b[0mremove\u001b[0m\u001b[0;34m(\u001b[0m\u001b[0;34m'tea'\u001b[0m\u001b[0;34m)\u001b[0m\u001b[0;34m\u001b[0m\u001b[0;34m\u001b[0m\u001b[0m\n\u001b[0m\u001b[1;32m      2\u001b[0m \u001b[0mprint\u001b[0m\u001b[0;34m(\u001b[0m\u001b[0mdrinks\u001b[0m\u001b[0;34m)\u001b[0m\u001b[0;34m\u001b[0m\u001b[0;34m\u001b[0m\u001b[0m\n",
            "\u001b[0;31mValueError\u001b[0m: list.remove(x): x not in list"
          ]
        }
      ]
    },
    {
      "cell_type": "code",
      "source": [
        "onlyfood = food.remove('tea')\n",
        "print(onlyfood)"
      ],
      "metadata": {
        "colab": {
          "base_uri": "https://localhost:8080/",
          "height": 193
        },
        "id": "aN5lTmJw0Oqm",
        "outputId": "c56a5ed7-96cb-47d3-f629-eac27474f55e"
      },
      "execution_count": 105,
      "outputs": [
        {
          "output_type": "error",
          "ename": "ValueError",
          "evalue": "ignored",
          "traceback": [
            "\u001b[0;31m---------------------------------------------------------------------------\u001b[0m",
            "\u001b[0;31mValueError\u001b[0m                                Traceback (most recent call last)",
            "\u001b[0;32m<ipython-input-105-4615697f7867>\u001b[0m in \u001b[0;36m<cell line: 1>\u001b[0;34m()\u001b[0m\n\u001b[0;32m----> 1\u001b[0;31m \u001b[0monlyfood\u001b[0m \u001b[0;34m=\u001b[0m \u001b[0mfood\u001b[0m\u001b[0;34m.\u001b[0m\u001b[0mremove\u001b[0m\u001b[0;34m(\u001b[0m\u001b[0;34m'tea'\u001b[0m\u001b[0;34m)\u001b[0m\u001b[0;34m\u001b[0m\u001b[0;34m\u001b[0m\u001b[0m\n\u001b[0m\u001b[1;32m      2\u001b[0m \u001b[0mprint\u001b[0m\u001b[0;34m(\u001b[0m\u001b[0monlyfood\u001b[0m\u001b[0;34m)\u001b[0m\u001b[0;34m\u001b[0m\u001b[0;34m\u001b[0m\u001b[0m\n",
            "\u001b[0;31mValueError\u001b[0m: list.remove(x): x not in list"
          ]
        }
      ]
    },
    {
      "cell_type": "code",
      "source": [
        "xyz = food.remove(\"coffee\")\n",
        "print(xyz)"
      ],
      "metadata": {
        "colab": {
          "base_uri": "https://localhost:8080/"
        },
        "id": "e_PgEX7G0pGH",
        "outputId": "f57bf783-d7b7-49e3-8c45-bcb16713f789"
      },
      "execution_count": null,
      "outputs": [
        {
          "output_type": "stream",
          "name": "stdout",
          "text": [
            "None\n"
          ]
        }
      ]
    },
    {
      "cell_type": "code",
      "source": [
        "print(food)"
      ],
      "metadata": {
        "colab": {
          "base_uri": "https://localhost:8080/"
        },
        "id": "MSvNcWcR0s6y",
        "outputId": "53ecfc8c-9d6b-4fc0-efb1-eac66ac1d8ac"
      },
      "execution_count": null,
      "outputs": [
        {
          "output_type": "stream",
          "name": "stdout",
          "text": [
            "['pizza', 'burger', 'rice', 'Paratha', 'Sweet', 'cake', 'sandwhich', 'sandwhich', 'pasta', 'sandwhich', 'pasta']\n"
          ]
        }
      ]
    },
    {
      "cell_type": "code",
      "source": [
        "menu = ['pizza', 'burger', 'rice', 'noodles', 'icecream', 'juice']\n",
        "print(menu)"
      ],
      "metadata": {
        "colab": {
          "base_uri": "https://localhost:8080/"
        },
        "id": "pEE4-ZwE0vjq",
        "outputId": "87870fab-a758-468d-a999-5bef37b01040"
      },
      "execution_count": null,
      "outputs": [
        {
          "output_type": "stream",
          "name": "stdout",
          "text": [
            "['pizza', 'burger', 'rice', 'noodles', 'icecream', 'juice']\n"
          ]
        }
      ]
    },
    {
      "cell_type": "code",
      "source": [
        "print('initial menu', menu)\n",
        "menu.reverse()\n",
        "print('reversed menu', menu)\n",
        "print(type(reversed(menu)))"
      ],
      "metadata": {
        "colab": {
          "base_uri": "https://localhost:8080/"
        },
        "id": "pYsVmr4I0yBo",
        "outputId": "aeb37903-faed-4478-9c00-3fb7e8ff2785"
      },
      "execution_count": null,
      "outputs": [
        {
          "output_type": "stream",
          "name": "stdout",
          "text": [
            "initial menu ['pizza', 'burger', 'rice', 'noodles', 'icecream', 'juice']\n",
            "reversed menu ['juice', 'icecream', 'noodles', 'rice', 'burger', 'pizza']\n",
            "<class 'list_reverseiterator'>\n"
          ]
        }
      ]
    },
    {
      "cell_type": "code",
      "source": [
        "print('initial menu', menu)\n",
        "menu.sort()\n",
        "print('sorted menu',menu)"
      ],
      "metadata": {
        "colab": {
          "base_uri": "https://localhost:8080/"
        },
        "id": "uvlOfnDL00m-",
        "outputId": "924e65e9-fa7f-4bf7-aafc-7ab62afc876c"
      },
      "execution_count": null,
      "outputs": [
        {
          "output_type": "stream",
          "name": "stdout",
          "text": [
            "initial menu ['juice', 'icecream', 'noodles', 'rice', 'burger', 'pizza']\n",
            "sorted menu ['burger', 'icecream', 'juice', 'noodles', 'pizza', 'rice']\n"
          ]
        }
      ]
    },
    {
      "cell_type": "code",
      "source": [
        "del menu[-2]\n",
        "menu"
      ],
      "metadata": {
        "id": "aC3T6IIs030t"
      },
      "execution_count": null,
      "outputs": []
    },
    {
      "cell_type": "code",
      "source": [
        "print(menu[2:4])"
      ],
      "metadata": {
        "colab": {
          "base_uri": "https://localhost:8080/"
        },
        "id": "CeTjRwDd051E",
        "outputId": "ccaf8912-855a-4c71-a129-665cff64ef8c"
      },
      "execution_count": null,
      "outputs": [
        {
          "output_type": "stream",
          "name": "stdout",
          "text": [
            "['juice', 'noodles']\n"
          ]
        }
      ]
    },
    {
      "cell_type": "code",
      "source": [
        "menu.remove(['juice','noodles'])\n",
        "print(menu)"
      ],
      "metadata": {
        "colab": {
          "base_uri": "https://localhost:8080/",
          "height": 193
        },
        "id": "oH1HP_oB1GJI",
        "outputId": "de2ebb72-61dd-4b27-fd74-a621b0a3b53b"
      },
      "execution_count": 106,
      "outputs": [
        {
          "output_type": "error",
          "ename": "ValueError",
          "evalue": "ignored",
          "traceback": [
            "\u001b[0;31m---------------------------------------------------------------------------\u001b[0m",
            "\u001b[0;31mValueError\u001b[0m                                Traceback (most recent call last)",
            "\u001b[0;32m<ipython-input-106-18e6613e25de>\u001b[0m in \u001b[0;36m<cell line: 1>\u001b[0;34m()\u001b[0m\n\u001b[0;32m----> 1\u001b[0;31m \u001b[0mmenu\u001b[0m\u001b[0;34m.\u001b[0m\u001b[0mremove\u001b[0m\u001b[0;34m(\u001b[0m\u001b[0;34m[\u001b[0m\u001b[0;34m'juice'\u001b[0m\u001b[0;34m,\u001b[0m\u001b[0;34m'noodles'\u001b[0m\u001b[0;34m]\u001b[0m\u001b[0;34m)\u001b[0m\u001b[0;34m\u001b[0m\u001b[0;34m\u001b[0m\u001b[0m\n\u001b[0m\u001b[1;32m      2\u001b[0m \u001b[0mprint\u001b[0m\u001b[0;34m(\u001b[0m\u001b[0mmenu\u001b[0m\u001b[0;34m)\u001b[0m\u001b[0;34m\u001b[0m\u001b[0;34m\u001b[0m\u001b[0m\n",
            "\u001b[0;31mValueError\u001b[0m: list.remove(x): x not in list"
          ]
        }
      ]
    },
    {
      "cell_type": "code",
      "source": [
        "print(menu)"
      ],
      "metadata": {
        "colab": {
          "base_uri": "https://localhost:8080/"
        },
        "id": "M0YuzGFZ1LoN",
        "outputId": "d4df5caf-587c-4461-ef62-dd2a89a2cc5e"
      },
      "execution_count": null,
      "outputs": [
        {
          "output_type": "stream",
          "name": "stdout",
          "text": [
            "['burger', 'icecream', 'juice', 'noodles', 'pizza', 'rice']\n"
          ]
        }
      ]
    },
    {
      "cell_type": "code",
      "source": [
        "menu.remove('juice')\n",
        "print(menu)"
      ],
      "metadata": {
        "id": "mcIZByan1TUb"
      },
      "execution_count": null,
      "outputs": []
    },
    {
      "cell_type": "code",
      "source": [
        "print(menu)"
      ],
      "metadata": {
        "id": "NJvCeguq1UEy",
        "outputId": "2980976b-731a-4e9c-8afe-930ed46e80cc",
        "colab": {
          "base_uri": "https://localhost:8080/"
        }
      },
      "execution_count": null,
      "outputs": [
        {
          "output_type": "stream",
          "name": "stdout",
          "text": [
            "['burger', 'icecream', 'juice', 'noodles', 'pizza', 'rice']\n"
          ]
        }
      ]
    },
    {
      "cell_type": "code",
      "source": [
        "menu.remove('icecream','noodles')\n",
        "print(menu)"
      ],
      "metadata": {
        "id": "0Ig5s7F41UUO",
        "colab": {
          "base_uri": "https://localhost:8080/",
          "height": 193
        },
        "outputId": "3799f5d1-e8d3-4088-a23e-fbde4435f934"
      },
      "execution_count": 47,
      "outputs": [
        {
          "output_type": "error",
          "ename": "TypeError",
          "evalue": "ignored",
          "traceback": [
            "\u001b[0;31m---------------------------------------------------------------------------\u001b[0m",
            "\u001b[0;31mTypeError\u001b[0m                                 Traceback (most recent call last)",
            "\u001b[0;32m<ipython-input-47-5c253b284250>\u001b[0m in \u001b[0;36m<cell line: 1>\u001b[0;34m()\u001b[0m\n\u001b[0;32m----> 1\u001b[0;31m \u001b[0mmenu\u001b[0m\u001b[0;34m.\u001b[0m\u001b[0mremove\u001b[0m\u001b[0;34m(\u001b[0m\u001b[0;34m'icecream'\u001b[0m\u001b[0;34m,\u001b[0m\u001b[0;34m'noodles'\u001b[0m\u001b[0;34m)\u001b[0m\u001b[0;34m\u001b[0m\u001b[0;34m\u001b[0m\u001b[0m\n\u001b[0m\u001b[1;32m      2\u001b[0m \u001b[0mprint\u001b[0m\u001b[0;34m(\u001b[0m\u001b[0mmenu\u001b[0m\u001b[0;34m)\u001b[0m\u001b[0;34m\u001b[0m\u001b[0;34m\u001b[0m\u001b[0m\n",
            "\u001b[0;31mTypeError\u001b[0m: list.remove() takes exactly one argument (2 given)"
          ]
        }
      ]
    },
    {
      "cell_type": "code",
      "source": [
        "menu_2 = ['pizza','burger', 'rice', 'noodles','icecream']\n",
        "print(menu_2)"
      ],
      "metadata": {
        "colab": {
          "base_uri": "https://localhost:8080/"
        },
        "id": "kAf69h-r3Y-0",
        "outputId": "9b66c6e5-760b-4b01-9afa-5880e8efb8f7"
      },
      "execution_count": 48,
      "outputs": [
        {
          "output_type": "stream",
          "name": "stdout",
          "text": [
            "['pizza', 'burger', 'rice', 'noodles', 'icecream']\n"
          ]
        }
      ]
    },
    {
      "cell_type": "code",
      "source": [
        "menu_2.pop()"
      ],
      "metadata": {
        "colab": {
          "base_uri": "https://localhost:8080/",
          "height": 35
        },
        "id": "zFGRPFG-3cs3",
        "outputId": "6fbaac56-e5cb-42d5-ba60-fc89a690f146"
      },
      "execution_count": 49,
      "outputs": [
        {
          "output_type": "execute_result",
          "data": {
            "text/plain": [
              "'icecream'"
            ],
            "application/vnd.google.colaboratory.intrinsic+json": {
              "type": "string"
            }
          },
          "metadata": {},
          "execution_count": 49
        }
      ]
    },
    {
      "cell_type": "code",
      "source": [
        "menu_2.clear()\n",
        "print(menu_2)"
      ],
      "metadata": {
        "colab": {
          "base_uri": "https://localhost:8080/"
        },
        "id": "cVvmAN8o3c96",
        "outputId": "a3268da7-45d5-4f1e-bfc6-cef24d779032"
      },
      "execution_count": 50,
      "outputs": [
        {
          "output_type": "stream",
          "name": "stdout",
          "text": [
            "[]\n"
          ]
        }
      ]
    },
    {
      "cell_type": "markdown",
      "source": [
        "\n",
        "\n",
        "```\n",
        "# This is formatted as code\n",
        "```\n",
        "\n",
        "## 2) Tuples"
      ],
      "metadata": {
        "id": "6F10Y0tw3rmP"
      }
    },
    {
      "cell_type": "code",
      "source": [
        "# Tuples - same as list, both contains sequence of items, mixed data types, and it contains individual elements also it is\n",
        "# immutable, it represents by ().\n",
        "\n",
        "empty = ()\n",
        "print(\"empty tuple\",empty)"
      ],
      "metadata": {
        "colab": {
          "base_uri": "https://localhost:8080/"
        },
        "id": "UCQb8csj3vsh",
        "outputId": "c7e60b9e-6c5b-46cf-f4f6-b78732b48ec5"
      },
      "execution_count": 51,
      "outputs": [
        {
          "output_type": "stream",
          "name": "stdout",
          "text": [
            "empty tuple ()\n"
          ]
        }
      ]
    },
    {
      "cell_type": "code",
      "source": [
        "# to create int tuple\n",
        "int = (2,1,3,4,5)\n",
        "print(int)"
      ],
      "metadata": {
        "colab": {
          "base_uri": "https://localhost:8080/"
        },
        "id": "_BPaz0_B35RX",
        "outputId": "f9095cdb-f906-4bd9-f62a-18357ee87448"
      },
      "execution_count": 52,
      "outputs": [
        {
          "output_type": "stream",
          "name": "stdout",
          "text": [
            "(2, 1, 3, 4, 5)\n"
          ]
        }
      ]
    },
    {
      "cell_type": "code",
      "source": [
        "#mix tuple\n",
        "mix = (4,\"Python\",4.2)\n",
        "print(mix)"
      ],
      "metadata": {
        "colab": {
          "base_uri": "https://localhost:8080/"
        },
        "id": "Pje7hOqU35iG",
        "outputId": "e186fafd-11cb-455c-a71c-302edeb3ce25"
      },
      "execution_count": 53,
      "outputs": [
        {
          "output_type": "stream",
          "name": "stdout",
          "text": [
            "(4, 'Python', 4.2)\n"
          ]
        }
      ]
    },
    {
      "cell_type": "code",
      "source": [
        "# nested tuple\n",
        "nested = ('python', [\"int\",\"data\",\"float\"], 100)\n",
        "print(nested)"
      ],
      "metadata": {
        "colab": {
          "base_uri": "https://localhost:8080/"
        },
        "id": "7XsOMlFT35wa",
        "outputId": "7b348e1e-2159-45a3-e8d2-137d666fcf9f"
      },
      "execution_count": 54,
      "outputs": [
        {
          "output_type": "stream",
          "name": "stdout",
          "text": [
            "('python', ['int', 'data', 'float'], 100)\n"
          ]
        }
      ]
    },
    {
      "cell_type": "code",
      "source": [
        "str1 = \"Python Prog\",\n",
        "print(str1)"
      ],
      "metadata": {
        "colab": {
          "base_uri": "https://localhost:8080/"
        },
        "id": "1kF14_qT35_4",
        "outputId": "0552e3a6-a8aa-431d-93fc-bf49c086d1ba"
      },
      "execution_count": 55,
      "outputs": [
        {
          "output_type": "stream",
          "name": "stdout",
          "text": [
            "('Python Prog',)\n"
          ]
        }
      ]
    },
    {
      "cell_type": "code",
      "source": [
        "Country = (\"USA\", \"China\", \"Philippine\", \"India\")\n",
        "print(Country)"
      ],
      "metadata": {
        "colab": {
          "base_uri": "https://localhost:8080/"
        },
        "id": "IfBlrdKa36NS",
        "outputId": "a839d48d-b6c8-495f-efcf-d9eb859199bf"
      },
      "execution_count": 56,
      "outputs": [
        {
          "output_type": "stream",
          "name": "stdout",
          "text": [
            "('USA', 'China', 'Philippine', 'India')\n"
          ]
        }
      ]
    },
    {
      "cell_type": "code",
      "source": [
        "Country[2]=\"Singapore\"\n",
        "print(Country)"
      ],
      "metadata": {
        "colab": {
          "base_uri": "https://localhost:8080/",
          "height": 193
        },
        "id": "FKBtZUmt36dX",
        "outputId": "8bb5c027-c687-4604-dcb9-ee1cea93f82b"
      },
      "execution_count": 107,
      "outputs": [
        {
          "output_type": "error",
          "ename": "TypeError",
          "evalue": "ignored",
          "traceback": [
            "\u001b[0;31m---------------------------------------------------------------------------\u001b[0m",
            "\u001b[0;31mTypeError\u001b[0m                                 Traceback (most recent call last)",
            "\u001b[0;32m<ipython-input-107-2522093a0d5f>\u001b[0m in \u001b[0;36m<cell line: 1>\u001b[0;34m()\u001b[0m\n\u001b[0;32m----> 1\u001b[0;31m \u001b[0mCountry\u001b[0m\u001b[0;34m[\u001b[0m\u001b[0;36m2\u001b[0m\u001b[0;34m]\u001b[0m\u001b[0;34m=\u001b[0m\u001b[0;34m\"Singapore\"\u001b[0m\u001b[0;34m\u001b[0m\u001b[0;34m\u001b[0m\u001b[0m\n\u001b[0m\u001b[1;32m      2\u001b[0m \u001b[0mprint\u001b[0m\u001b[0;34m(\u001b[0m\u001b[0mCountry\u001b[0m\u001b[0;34m)\u001b[0m\u001b[0;34m\u001b[0m\u001b[0;34m\u001b[0m\u001b[0m\n",
            "\u001b[0;31mTypeError\u001b[0m: 'tuple' object does not support item assignment"
          ]
        }
      ]
    },
    {
      "cell_type": "code",
      "source": [
        "del Country[1]"
      ],
      "metadata": {
        "colab": {
          "base_uri": "https://localhost:8080/",
          "height": 175
        },
        "id": "Z_YuzeAv36sQ",
        "outputId": "d4112213-c5f5-4840-c5bd-a7653b4b80d3"
      },
      "execution_count": 108,
      "outputs": [
        {
          "output_type": "error",
          "ename": "TypeError",
          "evalue": "ignored",
          "traceback": [
            "\u001b[0;31m---------------------------------------------------------------------------\u001b[0m",
            "\u001b[0;31mTypeError\u001b[0m                                 Traceback (most recent call last)",
            "\u001b[0;32m<ipython-input-108-ed195761df2a>\u001b[0m in \u001b[0;36m<cell line: 1>\u001b[0;34m()\u001b[0m\n\u001b[0;32m----> 1\u001b[0;31m \u001b[0;32mdel\u001b[0m \u001b[0mCountry\u001b[0m\u001b[0;34m[\u001b[0m\u001b[0;36m1\u001b[0m\u001b[0;34m]\u001b[0m\u001b[0;34m\u001b[0m\u001b[0;34m\u001b[0m\u001b[0m\n\u001b[0m",
            "\u001b[0;31mTypeError\u001b[0m: 'tuple' object doesn't support item deletion"
          ]
        }
      ]
    },
    {
      "cell_type": "code",
      "source": [
        "Country + (\"Singapore\",\"Japan\")\n",
        "print(Country)\n",
        "Country1 = Country + (\"Singapore\",\"Japan\")\n",
        "print(Country1)"
      ],
      "metadata": {
        "colab": {
          "base_uri": "https://localhost:8080/"
        },
        "id": "cSyMS6ub366b",
        "outputId": "6ad2ecb6-58cc-4005-dd68-2605c73a0f20"
      },
      "execution_count": 59,
      "outputs": [
        {
          "output_type": "stream",
          "name": "stdout",
          "text": [
            "('USA', 'China', 'Philippine', 'India')\n",
            "('USA', 'China', 'Philippine', 'India', 'Singapore', 'Japan')\n"
          ]
        }
      ]
    },
    {
      "cell_type": "code",
      "source": [
        "Country1.count('China')"
      ],
      "metadata": {
        "colab": {
          "base_uri": "https://localhost:8080/"
        },
        "id": "lc_YzBD-37IX",
        "outputId": "1ad255f1-b5af-4a5a-f90c-a87ce7fcb507"
      },
      "execution_count": 60,
      "outputs": [
        {
          "output_type": "execute_result",
          "data": {
            "text/plain": [
              "1"
            ]
          },
          "metadata": {},
          "execution_count": 60
        }
      ]
    },
    {
      "cell_type": "code",
      "source": [
        "ex1 = ('a','p','y','t','h','o','n','a','y')\n",
        "print(ex1.count('a'))"
      ],
      "metadata": {
        "colab": {
          "base_uri": "https://localhost:8080/"
        },
        "id": "NVkM87aO4cGn",
        "outputId": "28d25ad5-759c-4d63-a608-c257a5453ebe"
      },
      "execution_count": 61,
      "outputs": [
        {
          "output_type": "stream",
          "name": "stdout",
          "text": [
            "2\n"
          ]
        }
      ]
    },
    {
      "cell_type": "code",
      "source": [
        "print(ex1.index('y'))"
      ],
      "metadata": {
        "colab": {
          "base_uri": "https://localhost:8080/"
        },
        "id": "mNBOTuKn4gAB",
        "outputId": "841bb39e-c113-4910-ab2c-caa21dc38fdb"
      },
      "execution_count": 62,
      "outputs": [
        {
          "output_type": "stream",
          "name": "stdout",
          "text": [
            "2\n"
          ]
        }
      ]
    },
    {
      "cell_type": "code",
      "source": [
        "# to check an item available in tuple or not\n",
        "print(\"Australia\" in Country1)"
      ],
      "metadata": {
        "colab": {
          "base_uri": "https://localhost:8080/"
        },
        "id": "Nv9ZAnhB4gPb",
        "outputId": "9b46a05a-f859-44d9-8086-899407f3dc49"
      },
      "execution_count": 63,
      "outputs": [
        {
          "output_type": "stream",
          "name": "stdout",
          "text": [
            "False\n"
          ]
        }
      ]
    },
    {
      "cell_type": "code",
      "source": [
        "print(\"Singapore\" in Country1)"
      ],
      "metadata": {
        "colab": {
          "base_uri": "https://localhost:8080/"
        },
        "id": "gYnLG33_4gdX",
        "outputId": "b8f0fe08-4a43-46d9-8395-6047f9f98387"
      },
      "execution_count": 64,
      "outputs": [
        {
          "output_type": "stream",
          "name": "stdout",
          "text": [
            "True\n"
          ]
        }
      ]
    },
    {
      "cell_type": "code",
      "source": [
        "del Country1"
      ],
      "metadata": {
        "id": "KaVvD6qS4gqF"
      },
      "execution_count": 65,
      "outputs": []
    },
    {
      "cell_type": "code",
      "source": [
        "print(Country1)"
      ],
      "metadata": {
        "colab": {
          "base_uri": "https://localhost:8080/",
          "height": 175
        },
        "id": "ABzJ6Mwe4g1u",
        "outputId": "b802a1c9-9260-4e7c-e3ef-6096c6a5670d"
      },
      "execution_count": 109,
      "outputs": [
        {
          "output_type": "error",
          "ename": "NameError",
          "evalue": "ignored",
          "traceback": [
            "\u001b[0;31m---------------------------------------------------------------------------\u001b[0m",
            "\u001b[0;31mNameError\u001b[0m                                 Traceback (most recent call last)",
            "\u001b[0;32m<ipython-input-109-c3311df01292>\u001b[0m in \u001b[0;36m<cell line: 1>\u001b[0;34m()\u001b[0m\n\u001b[0;32m----> 1\u001b[0;31m \u001b[0mprint\u001b[0m\u001b[0;34m(\u001b[0m\u001b[0mCountry1\u001b[0m\u001b[0;34m)\u001b[0m\u001b[0;34m\u001b[0m\u001b[0;34m\u001b[0m\u001b[0m\n\u001b[0m",
            "\u001b[0;31mNameError\u001b[0m: name 'Country1' is not defined"
          ]
        }
      ]
    },
    {
      "cell_type": "markdown",
      "source": [
        "## 3. Sets"
      ],
      "metadata": {
        "id": "XBvGpCBw42oT"
      }
    },
    {
      "cell_type": "code",
      "source": [
        "# Sets - collection of items which are not in order\n",
        "# but we cannot change the items in set but we can the add or remove\n",
        "# Elements cannot be duplicated\n",
        "# also there is no indexing or slicing\n",
        "# useig {}, Union, Intersections, difference"
      ],
      "metadata": {
        "id": "Rub54s-Y4hnY"
      },
      "execution_count": 67,
      "outputs": []
    },
    {
      "cell_type": "code",
      "source": [
        "temp = [['Mary',101,26],\n",
        "        ['Alex',102,27]]\n",
        "print(temp)"
      ],
      "metadata": {
        "colab": {
          "base_uri": "https://localhost:8080/"
        },
        "id": "zUzcX5eY5JTx",
        "outputId": "6742ad40-f2b4-4c63-fa79-195c5c1e3a93"
      },
      "execution_count": 68,
      "outputs": [
        {
          "output_type": "stream",
          "name": "stdout",
          "text": [
            "[['Mary', 101, 26], ['Alex', 102, 27]]\n"
          ]
        }
      ]
    },
    {
      "cell_type": "code",
      "source": [
        "countries = {'USA', 'China', 'Philippine', 'India', 'Singapore', 'Japan'}\n",
        "print(countries)\n",
        "print(type(countries))"
      ],
      "metadata": {
        "colab": {
          "base_uri": "https://localhost:8080/"
        },
        "id": "7nzH7mcn5JkV",
        "outputId": "c5398bfc-9c99-463f-d5e0-1e3df0d09269"
      },
      "execution_count": 70,
      "outputs": [
        {
          "output_type": "stream",
          "name": "stdout",
          "text": [
            "{'India', 'Philippine', 'USA', 'China', 'Japan', 'Singapore'}\n",
            "<class 'set'>\n"
          ]
        }
      ]
    },
    {
      "cell_type": "code",
      "source": [
        "print(len(countries))"
      ],
      "metadata": {
        "id": "b2sib82f5J1N"
      },
      "execution_count": null,
      "outputs": []
    },
    {
      "cell_type": "code",
      "source": [
        "# adding an element\n",
        "countries.add(\"Germany\")\n",
        "print(countries)"
      ],
      "metadata": {
        "colab": {
          "base_uri": "https://localhost:8080/",
          "height": 210
        },
        "id": "h1BDy9UK5KIz",
        "outputId": "0a0e639a-1250-4c88-c49d-2670570dd7de"
      },
      "execution_count": 69,
      "outputs": [
        {
          "output_type": "error",
          "ename": "NameError",
          "evalue": "ignored",
          "traceback": [
            "\u001b[0;31m---------------------------------------------------------------------------\u001b[0m",
            "\u001b[0;31mNameError\u001b[0m                                 Traceback (most recent call last)",
            "\u001b[0;32m<ipython-input-69-15243df035ba>\u001b[0m in \u001b[0;36m<cell line: 2>\u001b[0;34m()\u001b[0m\n\u001b[1;32m      1\u001b[0m \u001b[0;31m# adding an element\u001b[0m\u001b[0;34m\u001b[0m\u001b[0;34m\u001b[0m\u001b[0m\n\u001b[0;32m----> 2\u001b[0;31m \u001b[0mcountries\u001b[0m\u001b[0;34m.\u001b[0m\u001b[0madd\u001b[0m\u001b[0;34m(\u001b[0m\u001b[0;34m\"Germany\"\u001b[0m\u001b[0;34m)\u001b[0m\u001b[0;34m\u001b[0m\u001b[0;34m\u001b[0m\u001b[0m\n\u001b[0m\u001b[1;32m      3\u001b[0m \u001b[0mprint\u001b[0m\u001b[0;34m(\u001b[0m\u001b[0mcountries\u001b[0m\u001b[0;34m)\u001b[0m\u001b[0;34m\u001b[0m\u001b[0;34m\u001b[0m\u001b[0m\n",
            "\u001b[0;31mNameError\u001b[0m: name 'countries' is not defined"
          ]
        }
      ]
    },
    {
      "cell_type": "code",
      "source": [
        "#deleting the element\n",
        "countries.discard(\"Germany\")\n",
        "print(countries)"
      ],
      "metadata": {
        "colab": {
          "base_uri": "https://localhost:8080/"
        },
        "id": "8yGefMZr4h9Z",
        "outputId": "72ed95ab-de4d-4dbf-b733-9d7aad9d9b66"
      },
      "execution_count": 71,
      "outputs": [
        {
          "output_type": "stream",
          "name": "stdout",
          "text": [
            "{'India', 'Philippine', 'USA', 'China', 'Japan', 'Singapore'}\n"
          ]
        }
      ]
    },
    {
      "cell_type": "code",
      "source": [
        "# Other Sets Operations\n",
        "country_1 = {'USA', 'China', 'India', 'Japan', 'Singapore', 'Philippine'}\n",
        "country_2 = {\"India\",'Singapore','Germany','Indonesia'}\n",
        "Setof_Country= country_1.union(country_2)\n",
        "print(Setof_Country)"
      ],
      "metadata": {
        "colab": {
          "base_uri": "https://localhost:8080/"
        },
        "id": "htsVwy7A5Vsv",
        "outputId": "d0cee13b-01a1-4d07-c428-599bf51b2ecd"
      },
      "execution_count": 72,
      "outputs": [
        {
          "output_type": "stream",
          "name": "stdout",
          "text": [
            "{'Germany', 'Philippine', 'USA', 'Japan', 'Singapore', 'Indonesia', 'China', 'India'}\n"
          ]
        }
      ]
    },
    {
      "cell_type": "code",
      "source": [
        "print(country_1 | country_2)"
      ],
      "metadata": {
        "colab": {
          "base_uri": "https://localhost:8080/"
        },
        "id": "IubRw4Vr5V_P",
        "outputId": "80fdc37f-1b7e-4583-86da-373a0f227f1f"
      },
      "execution_count": 74,
      "outputs": [
        {
          "output_type": "stream",
          "name": "stdout",
          "text": [
            "{'Germany', 'Philippine', 'USA', 'Japan', 'Singapore', 'Indonesia', 'China', 'India'}\n"
          ]
        }
      ]
    },
    {
      "cell_type": "code",
      "source": [
        "# intersection\n",
        "print(country_1.intersection(country_2))"
      ],
      "metadata": {
        "colab": {
          "base_uri": "https://localhost:8080/"
        },
        "id": "Jid5TlRI5WPW",
        "outputId": "0c07d542-6dbb-493e-8f77-b907ac8fce93"
      },
      "execution_count": 73,
      "outputs": [
        {
          "output_type": "stream",
          "name": "stdout",
          "text": [
            "{'India', 'Singapore'}\n"
          ]
        }
      ]
    },
    {
      "cell_type": "code",
      "source": [
        "print(country_1 & country_2)"
      ],
      "metadata": {
        "colab": {
          "base_uri": "https://localhost:8080/"
        },
        "id": "seNbG34x5Wft",
        "outputId": "cd9732d6-95de-4a92-8084-e64ad2741f6f"
      },
      "execution_count": 76,
      "outputs": [
        {
          "output_type": "stream",
          "name": "stdout",
          "text": [
            "{'India', 'Singapore'}\n"
          ]
        }
      ]
    },
    {
      "cell_type": "code",
      "source": [
        "print(country_2.difference(country_1))\n",
        "print(country_1.difference(country_2))"
      ],
      "metadata": {
        "colab": {
          "base_uri": "https://localhost:8080/"
        },
        "id": "QQekd9z15Wxt",
        "outputId": "50b96189-75cc-42dc-f50f-4fffc89752e9"
      },
      "execution_count": 75,
      "outputs": [
        {
          "output_type": "stream",
          "name": "stdout",
          "text": [
            "{'Germany', 'Indonesia'}\n",
            "{'China', 'Japan', 'Philippine', 'USA'}\n"
          ]
        }
      ]
    },
    {
      "cell_type": "code",
      "source": [
        "set_ex = {11,22,67,54}\n",
        "output_set = 78 in set_ex\n",
        "print(output_set)"
      ],
      "metadata": {
        "colab": {
          "base_uri": "https://localhost:8080/"
        },
        "id": "L6TZt-CN5q4F",
        "outputId": "57c7bec2-6582-4762-cbdc-e689a246a3ce"
      },
      "execution_count": 80,
      "outputs": [
        {
          "output_type": "stream",
          "name": "stdout",
          "text": [
            "False\n"
          ]
        }
      ]
    },
    {
      "cell_type": "code",
      "source": [
        "output_set = 78 not in set_ex\n",
        "print(output_set)"
      ],
      "metadata": {
        "colab": {
          "base_uri": "https://localhost:8080/"
        },
        "id": "dssX6pa85u6R",
        "outputId": "acda1433-543f-40e5-8e89-15408dd842ac"
      },
      "execution_count": 81,
      "outputs": [
        {
          "output_type": "stream",
          "name": "stdout",
          "text": [
            "True\n"
          ]
        }
      ]
    },
    {
      "cell_type": "code",
      "source": [
        "# Updating the set\n",
        "country_2 = {\"India\",'Singapore','Germany','Indonesia'}\n",
        "update_set = {'Africa','Malaysia','India'}\n",
        "country_2.update(update_set)\n",
        "print(country_2)"
      ],
      "metadata": {
        "colab": {
          "base_uri": "https://localhost:8080/"
        },
        "id": "iSGHaE0Y5vKt",
        "outputId": "b73f4e3d-9eb7-40cf-9894-3adbc5ffb3a0"
      },
      "execution_count": 77,
      "outputs": [
        {
          "output_type": "stream",
          "name": "stdout",
          "text": [
            "{'Germany', 'Indonesia', 'Africa', 'India', 'Malaysia', 'Singapore'}\n"
          ]
        }
      ]
    },
    {
      "cell_type": "code",
      "source": [
        "country_2.clear()\n",
        "print(country_2)"
      ],
      "metadata": {
        "colab": {
          "base_uri": "https://localhost:8080/"
        },
        "id": "0iDPo5Qe5veK",
        "outputId": "280fea3d-850f-493b-a4d5-78690b47c8da"
      },
      "execution_count": 78,
      "outputs": [
        {
          "output_type": "stream",
          "name": "stdout",
          "text": [
            "set()\n"
          ]
        }
      ]
    },
    {
      "cell_type": "markdown",
      "source": [
        "## 4) Dictionary"
      ],
      "metadata": {
        "id": "CUaZxYlQ6KZp"
      }
    },
    {
      "cell_type": "code",
      "source": [
        "# Dictionary - collection of elements, keys and values pair, key and value are separated by :.\n",
        "# it is mutable and unordered,\n",
        "# if we want to access the elements then we use key"
      ],
      "metadata": {
        "id": "GM4BKo1X6d1u"
      },
      "execution_count": 86,
      "outputs": []
    },
    {
      "cell_type": "code",
      "source": [
        "emp_dict = {'Name':'john','age':25,'Dept':'sales'}\n",
        "print(emp_dict)"
      ],
      "metadata": {
        "colab": {
          "base_uri": "https://localhost:8080/"
        },
        "id": "AAS4xt-P6l82",
        "outputId": "1ccfcaf7-758f-4796-ee98-942abb38d0f5"
      },
      "execution_count": 87,
      "outputs": [
        {
          "output_type": "stream",
          "name": "stdout",
          "text": [
            "{'Name': 'john', 'age': 25, 'Dept': 'sales'}\n"
          ]
        }
      ]
    },
    {
      "cell_type": "code",
      "source": [
        "emp_dict = {'Name':'john','age':25,'Dept':'sales'}\n",
        "print(emp_dict)"
      ],
      "metadata": {
        "colab": {
          "base_uri": "https://localhost:8080/"
        },
        "id": "DgMhqJ7y6mPI",
        "outputId": "26e3254b-c398-464a-cd28-611b6a1f9bbb"
      },
      "execution_count": 88,
      "outputs": [
        {
          "output_type": "stream",
          "name": "stdout",
          "text": [
            "{'Name': 'john', 'age': 25, 'Dept': 'sales'}\n"
          ]
        }
      ]
    },
    {
      "cell_type": "code",
      "source": [
        "emp_dict['age']=29\n",
        "print(emp_dict['age'])"
      ],
      "metadata": {
        "colab": {
          "base_uri": "https://localhost:8080/"
        },
        "id": "nV5ufc9m6mkg",
        "outputId": "7be831e1-0ede-4049-da85-e3657bd1fcf3"
      },
      "execution_count": 89,
      "outputs": [
        {
          "output_type": "stream",
          "name": "stdout",
          "text": [
            "29\n"
          ]
        }
      ]
    },
    {
      "cell_type": "code",
      "source": [
        "print(len(emp_dict))"
      ],
      "metadata": {
        "colab": {
          "base_uri": "https://localhost:8080/"
        },
        "id": "OKdEEA105wCM",
        "outputId": "d09b438b-47df-40c4-f870-7c720bc4dbf4"
      },
      "execution_count": 90,
      "outputs": [
        {
          "output_type": "stream",
          "name": "stdout",
          "text": [
            "3\n"
          ]
        }
      ]
    },
    {
      "cell_type": "code",
      "source": [
        "key = emp_dict.keys()\n",
        "print(key)"
      ],
      "metadata": {
        "id": "4nnRVUR663Tu"
      },
      "execution_count": null,
      "outputs": []
    },
    {
      "cell_type": "code",
      "source": [
        "emp_dict"
      ],
      "metadata": {
        "colab": {
          "base_uri": "https://localhost:8080/"
        },
        "id": "ShZeM-jH63p9",
        "outputId": "4428af40-fe88-428f-b3f8-9e66a129a70b"
      },
      "execution_count": 93,
      "outputs": [
        {
          "output_type": "execute_result",
          "data": {
            "text/plain": [
              "{'Name': 'john', 'age': 25, 'Dept': 'HR'}"
            ]
          },
          "metadata": {},
          "execution_count": 93
        }
      ]
    },
    {
      "cell_type": "code",
      "source": [
        "emp_dict = {'Name':'john','age':25,'Dept':'sales','Dept': 'HR'}\n",
        "print(emp_dict)"
      ],
      "metadata": {
        "colab": {
          "base_uri": "https://localhost:8080/"
        },
        "id": "XbdYHFHc6362",
        "outputId": "a2f9cea2-8cec-47e7-b5b5-71bcec9fd256"
      },
      "execution_count": 92,
      "outputs": [
        {
          "output_type": "stream",
          "name": "stdout",
          "text": [
            "{'Name': 'john', 'age': 25, 'Dept': 'HR'}\n"
          ]
        }
      ]
    },
    {
      "cell_type": "code",
      "source": [
        "print(type(emp_dict))"
      ],
      "metadata": {
        "colab": {
          "base_uri": "https://localhost:8080/"
        },
        "id": "A-f2-nQG6-7R",
        "outputId": "6517dc1c-9e4f-41c1-be26-4aa6c04d17b1"
      },
      "execution_count": 94,
      "outputs": [
        {
          "output_type": "stream",
          "name": "stdout",
          "text": [
            "<class 'dict'>\n"
          ]
        }
      ]
    },
    {
      "cell_type": "code",
      "source": [
        "emp = dict(name='Mary',age=25,id=101)\n",
        "print(emp)"
      ],
      "metadata": {
        "colab": {
          "base_uri": "https://localhost:8080/"
        },
        "id": "hVx5kgql6_Jx",
        "outputId": "33d33d8a-5bde-46c5-9cf5-4a294c24a1e5"
      },
      "execution_count": 95,
      "outputs": [
        {
          "output_type": "stream",
          "name": "stdout",
          "text": [
            "{'name': 'Mary', 'age': 25, 'id': 101}\n"
          ]
        }
      ]
    },
    {
      "cell_type": "code",
      "source": [
        "v = emp.values()\n",
        "print(v)\n",
        "print(emp.items())\n",
        "print()"
      ],
      "metadata": {
        "colab": {
          "base_uri": "https://localhost:8080/"
        },
        "id": "5JOtjp9u6_aU",
        "outputId": "2428d523-b266-4121-c9e5-702ff7ffc7fb"
      },
      "execution_count": 96,
      "outputs": [
        {
          "output_type": "stream",
          "name": "stdout",
          "text": [
            "dict_values(['Mary', 25, 101])\n",
            "dict_items([('name', 'Mary'), ('age', 25), ('id', 101)])\n",
            "\n"
          ]
        }
      ]
    },
    {
      "cell_type": "code",
      "source": [
        "# Nested Dictionary\n",
        "\n",
        "Company = {'emp1':{'name':'Daniel','year':2018},\n",
        "           'emp2':{'name':'Jimmy','year':2020},\n",
        "           'emp3':{'name':'John','year':2022}}\n",
        "print(Company)"
      ],
      "metadata": {
        "colab": {
          "base_uri": "https://localhost:8080/"
        },
        "id": "ZJwMBOeK6_pr",
        "outputId": "23f225c4-b578-42e6-c601-a60a13fee07a"
      },
      "execution_count": 97,
      "outputs": [
        {
          "output_type": "stream",
          "name": "stdout",
          "text": [
            "{'emp1': {'name': 'Daniel', 'year': 2018}, 'emp2': {'name': 'Jimmy', 'year': 2020}, 'emp3': {'name': 'John', 'year': 2022}}\n"
          ]
        }
      ]
    },
    {
      "cell_type": "code",
      "source": [
        "del emp['age']\n",
        "print(emp)"
      ],
      "metadata": {
        "colab": {
          "base_uri": "https://localhost:8080/"
        },
        "id": "mJqqI06_7Hnw",
        "outputId": "3020b6cb-c269-4486-9c06-69c290115479"
      },
      "execution_count": 98,
      "outputs": [
        {
          "output_type": "stream",
          "name": "stdout",
          "text": [
            "{'name': 'Mary', 'id': 101}\n"
          ]
        }
      ]
    },
    {
      "cell_type": "code",
      "source": [
        "print(emp.pop('id'))"
      ],
      "metadata": {
        "colab": {
          "base_uri": "https://localhost:8080/"
        },
        "id": "AjbiCA4A7Kwf",
        "outputId": "ee8857c4-e06b-46f5-a8f1-510e11a0427c"
      },
      "execution_count": 99,
      "outputs": [
        {
          "output_type": "stream",
          "name": "stdout",
          "text": [
            "101\n"
          ]
        }
      ]
    },
    {
      "cell_type": "code",
      "source": [
        "emp.clear()"
      ],
      "metadata": {
        "id": "hyUT7DSq7NFh"
      },
      "execution_count": 100,
      "outputs": []
    },
    {
      "cell_type": "code",
      "source": [
        "del emp\n",
        "print(emp)"
      ],
      "metadata": {
        "colab": {
          "base_uri": "https://localhost:8080/",
          "height": 193
        },
        "id": "wbzQnW5z7PIA",
        "outputId": "196de652-15d8-4223-bd75-b6dfebec452e"
      },
      "execution_count": 103,
      "outputs": [
        {
          "output_type": "error",
          "ename": "NameError",
          "evalue": "ignored",
          "traceback": [
            "\u001b[0;31m---------------------------------------------------------------------------\u001b[0m",
            "\u001b[0;31mNameError\u001b[0m                                 Traceback (most recent call last)",
            "\u001b[0;32m<ipython-input-103-4d1b571b629d>\u001b[0m in \u001b[0;36m<cell line: 1>\u001b[0;34m()\u001b[0m\n\u001b[0;32m----> 1\u001b[0;31m \u001b[0;32mdel\u001b[0m \u001b[0memp\u001b[0m\u001b[0;34m\u001b[0m\u001b[0;34m\u001b[0m\u001b[0m\n\u001b[0m\u001b[1;32m      2\u001b[0m \u001b[0mprint\u001b[0m\u001b[0;34m(\u001b[0m\u001b[0memp\u001b[0m\u001b[0;34m)\u001b[0m\u001b[0;34m\u001b[0m\u001b[0;34m\u001b[0m\u001b[0m\n",
            "\u001b[0;31mNameError\u001b[0m: name 'emp' is not defined"
          ]
        }
      ]
    },
    {
      "cell_type": "code",
      "source": [
        "empName = Company['emp1']['name']\n",
        "print(empName)"
      ],
      "metadata": {
        "colab": {
          "base_uri": "https://localhost:8080/"
        },
        "id": "Cb23SOGs7TJL",
        "outputId": "1abd1b0d-98ce-4185-a379-ffbc61d2724c"
      },
      "execution_count": 102,
      "outputs": [
        {
          "output_type": "stream",
          "name": "stdout",
          "text": [
            "Daniel\n"
          ]
        }
      ]
    },
    {
      "cell_type": "code",
      "source": [],
      "metadata": {
        "id": "joJjmMFc7UQP"
      },
      "execution_count": null,
      "outputs": []
    }
  ]
}