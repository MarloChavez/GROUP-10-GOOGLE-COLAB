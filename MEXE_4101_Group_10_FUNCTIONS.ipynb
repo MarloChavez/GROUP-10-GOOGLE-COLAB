{
  "nbformat": 4,
  "nbformat_minor": 0,
  "metadata": {
    "colab": {
      "provenance": []
    },
    "kernelspec": {
      "name": "python3",
      "display_name": "Python 3"
    },
    "language_info": {
      "name": "python"
    }
  },
  "cells": [
    {
      "cell_type": "code",
      "execution_count": 5,
      "metadata": {
        "id": "SX5ejFfhFso4"
      },
      "outputs": [],
      "source": [
        "#Function - Its a block of code which executes when we call it.\n",
        "def example():\n",
        "  print(\"Hi Everyone\")"
      ]
    },
    {
      "cell_type": "code",
      "source": [
        "example()"
      ],
      "metadata": {
        "colab": {
          "base_uri": "https://localhost:8080/"
        },
        "id": "Ku4XVqHrH2pd",
        "outputId": "90b6250d-5e45-4692-ca8e-1be34b9fecdd"
      },
      "execution_count": 6,
      "outputs": [
        {
          "output_type": "stream",
          "name": "stdout",
          "text": [
            "Hi Everyone\n"
          ]
        }
      ]
    },
    {
      "cell_type": "code",
      "source": [
        "def dept(fname):\n",
        "  print(fname + \" helps to generate revenue\")\n",
        "\n",
        "dept(\"HR\")"
      ],
      "metadata": {
        "colab": {
          "base_uri": "https://localhost:8080/"
        },
        "id": "DM1TWjAhIFb4",
        "outputId": "4c11c428-0e14-40e4-9ca8-31fbf18a0c13"
      },
      "execution_count": 7,
      "outputs": [
        {
          "output_type": "stream",
          "name": "stdout",
          "text": [
            "HR helps to generate revenue\n"
          ]
        }
      ]
    },
    {
      "cell_type": "code",
      "source": [
        "def example_1(string):\n",
        "  return len(string)\n",
        "print(\"length of string is\",example_1(\"Python Programming\"))"
      ],
      "metadata": {
        "colab": {
          "base_uri": "https://localhost:8080/"
        },
        "id": "0lpqNW67IJWq",
        "outputId": "2941ceab-b652-4418-9c4a-c28295075204"
      },
      "execution_count": 8,
      "outputs": [
        {
          "output_type": "stream",
          "name": "stdout",
          "text": [
            "length of string is 18\n"
          ]
        }
      ]
    },
    {
      "cell_type": "code",
      "source": [
        "text = \"This is function topic in python\"\n",
        "def anytext(any):\n",
        "  '''\n",
        "  input:\n",
        "    anytext-str\n",
        "  output:\n",
        "    anytext-str\n",
        "  '''\n",
        "  output = text +any.upper()\n",
        "  return output"
      ],
      "metadata": {
        "id": "1lRxl8vwIMHC"
      },
      "execution_count": 9,
      "outputs": []
    },
    {
      "cell_type": "code",
      "source": [
        "anytext('Hello Everyone')"
      ],
      "metadata": {
        "colab": {
          "base_uri": "https://localhost:8080/",
          "height": 35
        },
        "id": "uZIu0Hq9JXn0",
        "outputId": "6739fcd7-c910-4bd0-81d6-0c30684b8009"
      },
      "execution_count": 10,
      "outputs": [
        {
          "output_type": "execute_result",
          "data": {
            "text/plain": [
              "'This is function topic in pythonHELLO EVERYONE'"
            ],
            "application/vnd.google.colaboratory.intrinsic+json": {
              "type": "string"
            }
          },
          "metadata": {},
          "execution_count": 10
        }
      ]
    },
    {
      "cell_type": "code",
      "source": [
        "def multiply(*numbers):\n",
        "  total = 1\n",
        "  for number in numbers:\n",
        "    total *= number\n",
        "  return total"
      ],
      "metadata": {
        "id": "A--QKHDrJYdS"
      },
      "execution_count": 11,
      "outputs": []
    },
    {
      "cell_type": "code",
      "source": [
        "multiply(2,3,4,1,3)"
      ],
      "metadata": {
        "colab": {
          "base_uri": "https://localhost:8080/"
        },
        "id": "NEbb4s6-Ja8X",
        "outputId": "c2b09284-f933-4de1-b260-97af72291206"
      },
      "execution_count": 12,
      "outputs": [
        {
          "output_type": "execute_result",
          "data": {
            "text/plain": [
              "72"
            ]
          },
          "metadata": {},
          "execution_count": 12
        }
      ]
    },
    {
      "cell_type": "code",
      "source": [
        "def emp_1(** emp):\n",
        "  print(emp)"
      ],
      "metadata": {
        "id": "urDvLr4OJdmZ"
      },
      "execution_count": 13,
      "outputs": []
    },
    {
      "cell_type": "code",
      "source": [
        "emp_1(id=1,name=\"Steve\",age=26)"
      ],
      "metadata": {
        "colab": {
          "base_uri": "https://localhost:8080/"
        },
        "id": "5cYz4QHgJgMz",
        "outputId": "a5a5a728-e4ea-4f27-9c0e-007240611155"
      },
      "execution_count": 14,
      "outputs": [
        {
          "output_type": "stream",
          "name": "stdout",
          "text": [
            "{'id': 1, 'name': 'Steve', 'age': 26}\n"
          ]
        }
      ]
    },
    {
      "cell_type": "code",
      "source": [
        "#task - define a function for employees with string \"emp works with\", id, name and dept\n",
        "def Emp(** E):\n",
        "  print(\"Employee works with \",E)"
      ],
      "metadata": {
        "id": "_PHcY3vFJi19"
      },
      "execution_count": 15,
      "outputs": []
    },
    {
      "cell_type": "code",
      "source": [
        "Emp(id=30,name=\"Mark\",dept=\"Engineering\")"
      ],
      "metadata": {
        "colab": {
          "base_uri": "https://localhost:8080/"
        },
        "id": "IhwI79ZbJlOa",
        "outputId": "71774420-edd5-4acb-e7df-b035a0df732e"
      },
      "execution_count": 16,
      "outputs": [
        {
          "output_type": "stream",
          "name": "stdout",
          "text": [
            "Employee works with  {'id': 30, 'name': 'Mark', 'dept': 'Engineering'}\n"
          ]
        }
      ]
    },
    {
      "cell_type": "code",
      "source": [
        "def employee_details(emp_id, name, dept):\n",
        "    return print(name,\"(\",emp_id,\")\",\"works in\",dept,\"department.\")\n",
        "employee_details(30,\"Mark\",\"Sales\")\n"
      ],
      "metadata": {
        "colab": {
          "base_uri": "https://localhost:8080/"
        },
        "id": "SP29clTpJnX7",
        "outputId": "6b7c53fa-cedf-4d9a-ba62-cde44cb177d4"
      },
      "execution_count": 17,
      "outputs": [
        {
          "output_type": "stream",
          "name": "stdout",
          "text": [
            "Mark ( 30 ) works in Sales department.\n"
          ]
        }
      ]
    },
    {
      "cell_type": "code",
      "source": [],
      "metadata": {
        "id": "xcvbN3XXJrYP"
      },
      "execution_count": 17,
      "outputs": []
    }
  ]
}